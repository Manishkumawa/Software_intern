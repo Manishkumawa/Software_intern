{
  "nbformat": 4,
  "nbformat_minor": 0,
  "metadata": {
    "colab": {
      "provenance": []
    },
    "kernelspec": {
      "name": "python3",
      "display_name": "Python 3"
    },
    "language_info": {
      "name": "python"
    }
  },
  "cells": [
    {
      "cell_type": "code",
      "execution_count": 20,
      "metadata": {
        "colab": {
          "base_uri": "https://localhost:8080/",
          "height": 73
        },
        "id": "5OzDJcaMRO0b",
        "outputId": "b078e3fc-3a98-4159-c823-6b4c90e55426"
      },
      "outputs": [
        {
          "output_type": "display_data",
          "data": {
            "text/plain": [
              "<IPython.core.display.HTML object>"
            ],
            "text/html": [
              "\n",
              "     <input type=\"file\" id=\"files-935b06b3-c682-4291-af09-ed3916039f10\" name=\"files[]\" multiple disabled\n",
              "        style=\"border:none\" />\n",
              "     <output id=\"result-935b06b3-c682-4291-af09-ed3916039f10\">\n",
              "      Upload widget is only available when the cell has been executed in the\n",
              "      current browser session. Please rerun this cell to enable.\n",
              "      </output>\n",
              "      <script>// Copyright 2017 Google LLC\n",
              "//\n",
              "// Licensed under the Apache License, Version 2.0 (the \"License\");\n",
              "// you may not use this file except in compliance with the License.\n",
              "// You may obtain a copy of the License at\n",
              "//\n",
              "//      http://www.apache.org/licenses/LICENSE-2.0\n",
              "//\n",
              "// Unless required by applicable law or agreed to in writing, software\n",
              "// distributed under the License is distributed on an \"AS IS\" BASIS,\n",
              "// WITHOUT WARRANTIES OR CONDITIONS OF ANY KIND, either express or implied.\n",
              "// See the License for the specific language governing permissions and\n",
              "// limitations under the License.\n",
              "\n",
              "/**\n",
              " * @fileoverview Helpers for google.colab Python module.\n",
              " */\n",
              "(function(scope) {\n",
              "function span(text, styleAttributes = {}) {\n",
              "  const element = document.createElement('span');\n",
              "  element.textContent = text;\n",
              "  for (const key of Object.keys(styleAttributes)) {\n",
              "    element.style[key] = styleAttributes[key];\n",
              "  }\n",
              "  return element;\n",
              "}\n",
              "\n",
              "// Max number of bytes which will be uploaded at a time.\n",
              "const MAX_PAYLOAD_SIZE = 100 * 1024;\n",
              "\n",
              "function _uploadFiles(inputId, outputId) {\n",
              "  const steps = uploadFilesStep(inputId, outputId);\n",
              "  const outputElement = document.getElementById(outputId);\n",
              "  // Cache steps on the outputElement to make it available for the next call\n",
              "  // to uploadFilesContinue from Python.\n",
              "  outputElement.steps = steps;\n",
              "\n",
              "  return _uploadFilesContinue(outputId);\n",
              "}\n",
              "\n",
              "// This is roughly an async generator (not supported in the browser yet),\n",
              "// where there are multiple asynchronous steps and the Python side is going\n",
              "// to poll for completion of each step.\n",
              "// This uses a Promise to block the python side on completion of each step,\n",
              "// then passes the result of the previous step as the input to the next step.\n",
              "function _uploadFilesContinue(outputId) {\n",
              "  const outputElement = document.getElementById(outputId);\n",
              "  const steps = outputElement.steps;\n",
              "\n",
              "  const next = steps.next(outputElement.lastPromiseValue);\n",
              "  return Promise.resolve(next.value.promise).then((value) => {\n",
              "    // Cache the last promise value to make it available to the next\n",
              "    // step of the generator.\n",
              "    outputElement.lastPromiseValue = value;\n",
              "    return next.value.response;\n",
              "  });\n",
              "}\n",
              "\n",
              "/**\n",
              " * Generator function which is called between each async step of the upload\n",
              " * process.\n",
              " * @param {string} inputId Element ID of the input file picker element.\n",
              " * @param {string} outputId Element ID of the output display.\n",
              " * @return {!Iterable<!Object>} Iterable of next steps.\n",
              " */\n",
              "function* uploadFilesStep(inputId, outputId) {\n",
              "  const inputElement = document.getElementById(inputId);\n",
              "  inputElement.disabled = false;\n",
              "\n",
              "  const outputElement = document.getElementById(outputId);\n",
              "  outputElement.innerHTML = '';\n",
              "\n",
              "  const pickedPromise = new Promise((resolve) => {\n",
              "    inputElement.addEventListener('change', (e) => {\n",
              "      resolve(e.target.files);\n",
              "    });\n",
              "  });\n",
              "\n",
              "  const cancel = document.createElement('button');\n",
              "  inputElement.parentElement.appendChild(cancel);\n",
              "  cancel.textContent = 'Cancel upload';\n",
              "  const cancelPromise = new Promise((resolve) => {\n",
              "    cancel.onclick = () => {\n",
              "      resolve(null);\n",
              "    };\n",
              "  });\n",
              "\n",
              "  // Wait for the user to pick the files.\n",
              "  const files = yield {\n",
              "    promise: Promise.race([pickedPromise, cancelPromise]),\n",
              "    response: {\n",
              "      action: 'starting',\n",
              "    }\n",
              "  };\n",
              "\n",
              "  cancel.remove();\n",
              "\n",
              "  // Disable the input element since further picks are not allowed.\n",
              "  inputElement.disabled = true;\n",
              "\n",
              "  if (!files) {\n",
              "    return {\n",
              "      response: {\n",
              "        action: 'complete',\n",
              "      }\n",
              "    };\n",
              "  }\n",
              "\n",
              "  for (const file of files) {\n",
              "    const li = document.createElement('li');\n",
              "    li.append(span(file.name, {fontWeight: 'bold'}));\n",
              "    li.append(span(\n",
              "        `(${file.type || 'n/a'}) - ${file.size} bytes, ` +\n",
              "        `last modified: ${\n",
              "            file.lastModifiedDate ? file.lastModifiedDate.toLocaleDateString() :\n",
              "                                    'n/a'} - `));\n",
              "    const percent = span('0% done');\n",
              "    li.appendChild(percent);\n",
              "\n",
              "    outputElement.appendChild(li);\n",
              "\n",
              "    const fileDataPromise = new Promise((resolve) => {\n",
              "      const reader = new FileReader();\n",
              "      reader.onload = (e) => {\n",
              "        resolve(e.target.result);\n",
              "      };\n",
              "      reader.readAsArrayBuffer(file);\n",
              "    });\n",
              "    // Wait for the data to be ready.\n",
              "    let fileData = yield {\n",
              "      promise: fileDataPromise,\n",
              "      response: {\n",
              "        action: 'continue',\n",
              "      }\n",
              "    };\n",
              "\n",
              "    // Use a chunked sending to avoid message size limits. See b/62115660.\n",
              "    let position = 0;\n",
              "    do {\n",
              "      const length = Math.min(fileData.byteLength - position, MAX_PAYLOAD_SIZE);\n",
              "      const chunk = new Uint8Array(fileData, position, length);\n",
              "      position += length;\n",
              "\n",
              "      const base64 = btoa(String.fromCharCode.apply(null, chunk));\n",
              "      yield {\n",
              "        response: {\n",
              "          action: 'append',\n",
              "          file: file.name,\n",
              "          data: base64,\n",
              "        },\n",
              "      };\n",
              "\n",
              "      let percentDone = fileData.byteLength === 0 ?\n",
              "          100 :\n",
              "          Math.round((position / fileData.byteLength) * 100);\n",
              "      percent.textContent = `${percentDone}% done`;\n",
              "\n",
              "    } while (position < fileData.byteLength);\n",
              "  }\n",
              "\n",
              "  // All done.\n",
              "  yield {\n",
              "    response: {\n",
              "      action: 'complete',\n",
              "    }\n",
              "  };\n",
              "}\n",
              "\n",
              "scope.google = scope.google || {};\n",
              "scope.google.colab = scope.google.colab || {};\n",
              "scope.google.colab._files = {\n",
              "  _uploadFiles,\n",
              "  _uploadFilesContinue,\n",
              "};\n",
              "})(self);\n",
              "</script> "
            ]
          },
          "metadata": {}
        },
        {
          "output_type": "stream",
          "name": "stdout",
          "text": [
            "Saving Assignment_Timecard.xlsx to Assignment_Timecard (1).xlsx\n"
          ]
        }
      ],
      "source": [
        "from google.colab import files\n",
        "uploaded = files.upload()"
      ]
    },
    {
      "cell_type": "code",
      "source": [
        "import pandas as pd\n",
        "df = pd.read_excel('Assignment_Timecard.xlsx')\n",
        "# printing the name of columns\n",
        "for col in df.columns:\n",
        "    print(col)\n"
      ],
      "metadata": {
        "colab": {
          "base_uri": "https://localhost:8080/"
        },
        "id": "0iuvUG0-ScyK",
        "outputId": "fee460bc-6f01-4574-938e-1837a9228045"
      },
      "execution_count": 33,
      "outputs": [
        {
          "output_type": "stream",
          "name": "stdout",
          "text": [
            "Position ID\n",
            "Position Status\n",
            "Time\n",
            "Time Out\n",
            "Timecard Hours (as Time)\n",
            "Pay Cycle Start Date\n",
            "Pay Cycle End Date\n",
            "Employee Name\n",
            "File Number\n",
            "Unnamed: 9\n",
            "Unnamed: 10\n"
          ]
        }
      ]
    },
    {
      "cell_type": "code",
      "source": [
        "#Convert Time and Time Out columns to datetime objects\n",
        "df['Time'] = pd.to_datetime(df['Time'])\n",
        "df['Time Out'] = pd.to_datetime(df['Time Out'])\n"
      ],
      "metadata": {
        "id": "5ENnuIkoVIz4"
      },
      "execution_count": 34,
      "outputs": []
    },
    {
      "cell_type": "markdown",
      "source": [
        " **The name of employees and position who worked for 7 consecutive days**"
      ],
      "metadata": {
        "id": "_Ijf1ohTbz5-"
      }
    },
    {
      "cell_type": "code",
      "source": [
        "# finding the name of employees and position who worked for 7 consecutive days\n",
        "consecutive_days = 7\n",
        "df['Consecutive Days'] = df.groupby('Employee Name')['Time'].diff().dt.days.eq(1).astype(int).groupby(df['Employee Name']).cumsum() + 1\n",
        "result = df[df['Consecutive Days'] == consecutive_days][['Employee Name', 'Position ID']].drop_duplicates()\n",
        "\n",
        "print(result)\n"
      ],
      "metadata": {
        "colab": {
          "base_uri": "https://localhost:8080/"
        },
        "id": "jDKLSz-DWQ7k",
        "outputId": "b13c43d8-90e5-48d5-bd16-8c836f108f6a"
      },
      "execution_count": 35,
      "outputs": [
        {
          "output_type": "stream",
          "name": "stdout",
          "text": [
            "    Employee Name Position ID\n",
            "650  XiWW, JAsMiW   WFS000462\n"
          ]
        }
      ]
    },
    {
      "cell_type": "markdown",
      "source": [
        "*Name and Postion ID who have less than 10 hours of time between shifts but greater than 1 hour**"
      ],
      "metadata": {
        "id": "kcXpKGjxcVG9"
      }
    },
    {
      "cell_type": "code",
      "source": [
        "# Time difference between shifts\n",
        "df['Shift Gap'] = df.groupby('Employee Name')['Time'].diff()\n",
        "\n",
        "#Employees with less than 10 hours of time between shifts but greater than 1 hour\n",
        "result = df[(df['Shift Gap'] > '1:00:00') & (df['Shift Gap'] < '10:00:00')][['Employee Name', 'Position ID']].drop_duplicates()\n",
        "\n",
        "print(result)"
      ],
      "metadata": {
        "colab": {
          "base_uri": "https://localhost:8080/"
        },
        "id": "ymJwISrsY8oI",
        "outputId": "e4158d11-b8bc-40c6-b9d1-5cdd8aa561b0"
      },
      "execution_count": 36,
      "outputs": [
        {
          "output_type": "stream",
          "name": "stdout",
          "text": [
            "                    Employee Name Position ID\n",
            "2                 REsaXiaWE, XAis   WFS000065\n",
            "21                Sparks, KeWWeMh   WFS000101\n",
            "41            GaXCes, EXias XEpez   WFS000127\n",
            "53               CaMaXaWE, CeghaW   WFS000153\n",
            "72                  Arias, FeXipe   WFS000170\n",
            "...                           ...         ...\n",
            "1409     ArCeWMa FXEres, JEWaMhaW   WFS000584\n",
            "1427  RaCEs HerWaWdez, AdieX ECar   WFS000585\n",
            "1444       XariEs, Cesar GiEvaWWi   WFS000587\n",
            "1464     AGeX, WaMhaW REGerM PeWa   WFS000588\n",
            "1474              WgAyeW, RayCEWd   WFS000589\n",
            "\n",
            "[96 rows x 2 columns]\n"
          ]
        }
      ]
    },
    {
      "cell_type": "markdown",
      "source": [
        "**Name and Position ID  who has worked for more than 14 hours in a single shift**"
      ],
      "metadata": {
        "id": "50ImrUIXc5TY"
      }
    },
    {
      "cell_type": "code",
      "source": [
        "#Convert 'Timecard Hours (as Time)' column to numeric\n",
        "df['Timecard Hours (as Time)'] = pd.to_numeric(df['Timecard Hours (as Time)'], errors='coerce')\n",
        "# employees who have worked for more than 14 hours in a single shift\n",
        "result = df[df['Timecard Hours (as Time)'] > 14][['Employee Name', 'Position ID']].drop_duplicates()\n",
        "print(result)"
      ],
      "metadata": {
        "colab": {
          "base_uri": "https://localhost:8080/"
        },
        "id": "z1-o1G56Zsoo",
        "outputId": "ea8cbf32-fd8f-4d91-9f35-841047c9d790"
      },
      "execution_count": 37,
      "outputs": [
        {
          "output_type": "stream",
          "name": "stdout",
          "text": [
            "Empty DataFrame\n",
            "Columns: [Employee Name, Position ID]\n",
            "Index: []\n"
          ]
        }
      ]
    }
  ]
}